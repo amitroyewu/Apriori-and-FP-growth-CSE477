{
 "cells": [
  {
   "cell_type": "code",
   "execution_count": 1,
   "id": "fa50b064",
   "metadata": {
    "colab": {
     "base_uri": "https://localhost:8080/"
    },
    "id": "fa50b064",
    "outputId": "87041427-f00d-487e-ef7b-93a650350548"
   },
   "outputs": [
    {
     "name": "stdout",
     "output_type": "stream",
     "text": [
      "Requirement already satisfied: pyfpgrowth in c:\\programdata\\anaconda3\\lib\\site-packages (1.0)\n",
      "Note: you may need to restart the kernel to use updated packages.\n"
     ]
    }
   ],
   "source": [
    "pip install pyfpgrowth"
   ]
  },
  {
   "cell_type": "code",
   "execution_count": 2,
   "id": "gdvS3vaTQ1cX",
   "metadata": {
    "colab": {
     "base_uri": "https://localhost:8080/"
    },
    "id": "gdvS3vaTQ1cX",
    "outputId": "913dd401-89af-436a-e003-b253f1f23807"
   },
   "outputs": [
    {
     "name": "stdout",
     "output_type": "stream",
     "text": [
      "Requirement already satisfied: numpy in c:\\programdata\\anaconda3\\lib\\site-packages (1.20.1)\n",
      "Note: you may need to restart the kernel to use updated packages.\n"
     ]
    }
   ],
   "source": [
    "%pip install numpy"
   ]
  },
  {
   "cell_type": "code",
   "execution_count": null,
   "id": "3aacf89a",
   "metadata": {
    "colab": {
     "base_uri": "https://localhost:8080/"
    },
    "id": "3aacf89a",
    "outputId": "ff74c00d-8bfd-46da-ad06-7e64c2f12427",
    "scrolled": true
   },
   "outputs": [],
   "source": [
    "%pip install mlxtend --upgrade"
   ]
  },
  {
   "cell_type": "code",
   "execution_count": null,
   "id": "c348980a",
   "metadata": {
    "colab": {
     "base_uri": "https://localhost:8080/"
    },
    "id": "c348980a",
    "outputId": "b3a96aa0-8aa8-462f-da31-077d8236483e"
   },
   "outputs": [],
   "source": [
    "%pip install numpy"
   ]
  },
  {
   "cell_type": "code",
   "execution_count": null,
   "id": "19eadcf6",
   "metadata": {
    "id": "19eadcf6"
   },
   "outputs": [],
   "source": [
    "import pandas as pd\n",
    "import numpy as np\n",
    "import pyfpgrowth\n",
    "import os"
   ]
  },
  {
   "cell_type": "code",
   "execution_count": null,
   "id": "523bc851",
   "metadata": {
    "colab": {
     "base_uri": "https://localhost:8080/",
     "height": 419
    },
    "id": "523bc851",
    "outputId": "a6f97720-1776-4edb-a212-397e6885a6cf"
   },
   "outputs": [],
   "source": [
    "import pandas as pd\n",
    "import numpy as np\n",
    "store_dataset= pd.read_csv('mushroom.csv', header = None)\n",
    "store_dataset"
   ]
  },
  {
   "cell_type": "code",
   "execution_count": null,
   "id": "bf05dca4",
   "metadata": {
    "id": "bf05dca4"
   },
   "outputs": [],
   "source": [
    "store_dataset = store_dataset.fillna(0)"
   ]
  },
  {
   "cell_type": "code",
   "execution_count": null,
   "id": "c6b33121",
   "metadata": {
    "colab": {
     "base_uri": "https://localhost:8080/",
     "height": 419
    },
    "id": "c6b33121",
    "outputId": "2c20fcf0-17b3-455e-ae3f-3a7d7792e606"
   },
   "outputs": [],
   "source": [
    "store_dataset.astype(int)"
   ]
  },
  {
   "cell_type": "code",
   "execution_count": null,
   "id": "b4b7e171",
   "metadata": {
    "colab": {
     "base_uri": "https://localhost:8080/"
    },
    "id": "b4b7e171",
    "outputId": "1689cd2e-7b7c-4e42-e510-e125f4dae0cf"
   },
   "outputs": [],
   "source": [
    "store_dataset.info()"
   ]
  },
  {
   "cell_type": "code",
   "execution_count": null,
   "id": "6f0bda9a",
   "metadata": {
    "colab": {
     "base_uri": "https://localhost:8080/"
    },
    "id": "6f0bda9a",
    "outputId": "eec84d3f-f4c2-48dc-9fd0-92ef8d0954c7"
   },
   "outputs": [],
   "source": [
    "transactions= []\n",
    "for sublist in store_dataset.values.tolist():\n",
    "    clean_sublist=[item for item in sublist if item is not np.nan]\n",
    "    transactions.append(clean_sublist)\n",
    "print(transactions)\n",
    "for iteration, item in enumerate(transactions):\n",
    "  iteration\n",
    "print(iteration)\n",
    "#dataset\n",
    "#remove_nan\n",
    "#type(dataset)\n"
   ]
  },
  {
   "cell_type": "code",
   "execution_count": null,
   "id": "a2b378ee",
   "metadata": {
    "colab": {
     "base_uri": "https://localhost:8080/",
     "height": 439
    },
    "id": "a2b378ee",
    "outputId": "a1019d45-801e-48e4-c855-2a6544f54d2a"
   },
   "outputs": [],
   "source": [
    "import pandas as pd\n",
    "from mlxtend.preprocessing import TransactionEncoder\n",
    "te = TransactionEncoder()\n",
    "te_ary = te.fit(transactions).transform(transactions)\n",
    "df = pd.DataFrame(te_ary, columns=te.columns_)\n",
    "df"
   ]
  },
  {
   "cell_type": "code",
   "execution_count": null,
   "id": "d584ac9f",
   "metadata": {
    "colab": {
     "base_uri": "https://localhost:8080/",
     "height": 439
    },
    "id": "d584ac9f",
    "outputId": "e843802e-b6f4-40f7-ebd9-43ed8dab1abd"
   },
   "outputs": [],
   "source": [
    "df[0]=bool(False)\n",
    "#if code finds any 0 then converted them false\n",
    "df"
   ]
  },
  {
   "cell_type": "code",
   "execution_count": null,
   "id": "907bfad5",
   "metadata": {
    "colab": {
     "base_uri": "https://localhost:8080/"
    },
    "id": "907bfad5",
    "outputId": "dceea2b1-2255-45c9-d868-a93fb085c3d9"
   },
   "outputs": [],
   "source": [
    "import time\n",
    "from mlxtend.frequent_patterns import fpgrowth\n",
    "\n",
    "threshold = 1\n",
    "tot_time = []\n",
    "threshold_val = []\n",
    "\n",
    "for i in range(0,15):\n",
    "  start = time.time()\n",
    "  rules=fpgrowth(df, min_support=threshold, use_colnames=True)\n",
    "  end = time.time()\n",
    "  tot_time.append(end-start)\n",
    "  threshold_val.append(threshold)\n",
    "  threshold = threshold - 0.1\n",
    "  print(rules)"
   ]
  },
  {
   "cell_type": "code",
   "execution_count": null,
   "id": "c2abc844",
   "metadata": {
    "colab": {
     "base_uri": "https://localhost:8080/",
     "height": 296
    },
    "id": "c2abc844",
    "outputId": "e45c8fc3-6987-4097-8dd1-2cbd88f69ecd"
   },
   "outputs": [],
   "source": [
    "from matplotlib import pyplot as plt\n",
    "\n",
    "plt.plot(tot_time, threshold_val, label='Mushroom dataset')\n",
    "plt.xlabel(\"Time (s)\")\n",
    "plt.ylabel(\"Threshold\")\n"
   ]
  },
  {
   "cell_type": "code",
   "execution_count": null,
   "id": "c4641643",
   "metadata": {
    "id": "c4641643"
   },
   "outputs": [],
   "source": []
  }
 ],
 "metadata": {
  "colab": {
   "name": "Fp-growth Algorithm.ipynb",
   "provenance": []
  },
  "kernelspec": {
   "display_name": "Python 3",
   "language": "python",
   "name": "python3"
  },
  "language_info": {
   "codemirror_mode": {
    "name": "ipython",
    "version": 3
   },
   "file_extension": ".py",
   "mimetype": "text/x-python",
   "name": "python",
   "nbconvert_exporter": "python",
   "pygments_lexer": "ipython3",
   "version": "3.8.8"
  }
 },
 "nbformat": 4,
 "nbformat_minor": 5
}
